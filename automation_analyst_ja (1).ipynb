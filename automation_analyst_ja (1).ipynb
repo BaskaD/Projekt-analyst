{
 "cells": [
  {
   "cell_type": "code",
   "execution_count": 35,
   "metadata": {},
   "outputs": [],
   "source": [
    "import pandas as pd\n",
    "import openpyxl\n",
    "from datetime import datetime\n",
    "\n",
    "# Načíst config.xlsx soubor pomocí openpyxl\n",
    "confik_web = openpyxl.load_workbook(r'C:\\Users\\Dell\\Desktop\\BaskaVS\\Python\\dataframes\\01_Data\\config.xlsx')\n",
    "confik_sheet = confik_web.active\n"
   ]
  },
  {
   "cell_type": "code",
   "execution_count": 37,
   "metadata": {},
   "outputs": [
    {
     "name": "stdout",
     "output_type": "stream",
     "text": [
      "Buňka B4 je prázdná nebo obsahuje neplatnou hodnotu\n"
     ]
    }
   ],
   "source": [
    "product_group_id = confik_sheet['B2'].value # Získat hodnotu z buňky B2 a přiřadit ji proměnné 'product_group_id'\n",
    "product = confik_sheet['B3'].value\n",
    "date = confik_sheet['B4'].value\n",
    "\n",
    "# 2. Převedení řetězce s datem na objekt `datetime`\n",
    "\n",
    "if date is not None:\n",
    "    try:\n",
    "        date_object = datetime.strptime(date, \"%Y-%m-%d\")  # Předpokládáme formát data YYYY-MM-DD\n",
    "        print(f\"Datum: {date_object}\")\n",
    "    except ValueError:\n",
    "        print(f\"Nelze převést '{date}' na datum\")\n",
    "else:\n",
    "    print(\"Buňka B4 je prázdná nebo obsahuje neplatnou hodnotu\")"
   ]
  },
  {
   "cell_type": "code",
   "execution_count": 38,
   "metadata": {},
   "outputs": [
    {
     "name": "stdout",
     "output_type": "stream",
     "text": [
      "Datum: 2000-01-01 00:00:00\n"
     ]
    }
   ],
   "source": [
    "# Poskytnutí výchozí hodnoty, pokud je buňka B4 prázdná\n",
    "if date is None:\n",
    "    date = \"2000-01-01\"  # Výchozí hodnota, můžete ji změnit podle potřeby\n",
    "\n",
    "# 2. Převedení řetězce s datem na objekt `datetime`\n",
    "try:\n",
    "    date_object = datetime.strptime(date, \"%Y-%m-%d\")  # Předpokládáme formát data YYYY-MM-DD\n",
    "    print(f\"Datum: {date_object}\")\n",
    "except ValueError:\n",
    "    print(f\"Nelze převést '{date}' na datum\")"
   ]
  },
  {
   "cell_type": "code",
   "execution_count": 40,
   "metadata": {},
   "outputs": [],
   "source": [
    "df = pd.read_csv(r'C:\\Users\\Dell\\Desktop\\BaskaVS\\Python\\dataframes\\01_Data\\product_prices_cleaned.csv',\n",
    "     sep=';')\n",
    "df['date'] = pd.to_datetime(df['date'], format='%Y-%m-%d', errors= 'coerce')\n"
   ]
  },
  {
   "cell_type": "code",
   "execution_count": 41,
   "metadata": {},
   "outputs": [
    {
     "data": {
      "text/html": [
       "<div>\n",
       "<style scoped>\n",
       "    .dataframe tbody tr th:only-of-type {\n",
       "        vertical-align: middle;\n",
       "    }\n",
       "\n",
       "    .dataframe tbody tr th {\n",
       "        vertical-align: top;\n",
       "    }\n",
       "\n",
       "    .dataframe thead th {\n",
       "        text-align: right;\n",
       "    }\n",
       "</style>\n",
       "<table border=\"1\" class=\"dataframe\">\n",
       "  <thead>\n",
       "    <tr style=\"text-align: right;\">\n",
       "      <th></th>\n",
       "      <th>province</th>\n",
       "      <th>product_types</th>\n",
       "      <th>currency</th>\n",
       "      <th>product_group_id</th>\n",
       "      <th>product_line</th>\n",
       "      <th>value</th>\n",
       "      <th>date</th>\n",
       "      <th>product</th>\n",
       "    </tr>\n",
       "  </thead>\n",
       "  <tbody>\n",
       "  </tbody>\n",
       "</table>\n",
       "</div>"
      ],
      "text/plain": [
       "Empty DataFrame\n",
       "Columns: [province, product_types, currency, product_group_id, product_line, value, date, product]\n",
       "Index: []"
      ]
     },
     "execution_count": 41,
     "metadata": {},
     "output_type": "execute_result"
    }
   ],
   "source": [
    "#Připravte vhodné podmínky pro filtrování dat z product_cleaned.csv\n",
    "condition = pd.Series([True] * len(df))\n",
    "\n",
    "if product_group_id:\n",
    "    condition &= (df['product_group_id'] == product_group_id)\n",
    "if product:\n",
    "    condition &= (df['product'] == product)\n",
    "if date:\n",
    "    condition &= (df['date'] == pd.to_datetime(date))\n",
    "\n",
    "# Filtering the data based on conditions\n",
    "filtered_df = df[condition]\n",
    "filtered_df.head()\n"
   ]
  },
  {
   "cell_type": "markdown",
   "metadata": {},
   "source": [
    "condition = pd.Series([True] * len(df))\n",
    "\n",
    "Tento řádek vytvoří Pandas Series pojmenovanou condition.\n",
    "Series je jednorozměrné pole s popisky, které může ukládat různé typy dat.\n",
    "V tomto případě je Series naplněna hodnotami True. Počet hodnot True odpovídá délce (len(df)) tabulky df.\n",
    "Tímto vznikne Series, kde každý prvek odpovídá řádku v tabulce df.\n",
    "2. Aplikace podmínek pro filtrování (if příkazy):\n",
    "\n",
    "Kód dále používá tři if příkazy k případné úpravě Series condition:\n",
    "\n",
    "if product_group_id:\n",
    "\n",
    "Tento příkaz kontroluje, zda proměnná product_group_id má nějakou hodnotu (není None, False nebo prázdný řetězec).\n",
    "Pokud ano, kód použije bitwise AND (&= operátor) mezi stávající condition Series a novou podmínkou, kde df['product_group_id'] == product_group_id.\n",
    "To v podstatě filtruje condition Series tak, aby ponechalo pouze řádky, kde hodnota v sloupci 'product_group_id' odpovídá hodnotě product_group_id.\n",
    "Podobná logika platí i pro následující if příkazy:\n",
    "\n",
    "if product: kontroluje proměnnou product a filtruje podle sloupce 'product'.\n",
    "if date: kontroluje proměnnou date a filtruje podle sloupce 'date', přičemž před porovnáním převádí date na formát data pomocí pd.to_datetime(date).\n",
    "3. Filtrování tabulky:\n",
    "\n",
    "Po if příkazech pravděpodobně condition Series obsahuje True pro řádky, které splňují všechny zadané podmínky (ID skupiny produktů, produkt a datum), a False pro řádky, které je nesplňují.\n",
    "\n",
    "filtered_df = df[condition]\n",
    "\n",
    "Tento řádek používá booleovské indexování k filtrování tabulky df.\n",
    "Vybere pouze ty řádky, kde odpovídající prvek v condition Series je True.\n",
    "filtered_df.head()\n",
    "\n",
    "Tento řádek zobrazí prvních několik řádků filtrované tabulky filtered_df.\n",
    "Shrnutí:\n",
    "\n",
    "Tento úryvek kódu umožňuje filtrovat tabulku Pandas DataFrame na základě několika podmínek aplikovaných na různé sloupce."
   ]
  }
 ],
 "metadata": {
  "kernelspec": {
   "display_name": "base",
   "language": "python",
   "name": "python3"
  },
  "language_info": {
   "codemirror_mode": {
    "name": "ipython",
    "version": 3
   },
   "file_extension": ".py",
   "mimetype": "text/x-python",
   "name": "python",
   "nbconvert_exporter": "python",
   "pygments_lexer": "ipython3",
   "version": "3.11.7"
  }
 },
 "nbformat": 4,
 "nbformat_minor": 2
}
